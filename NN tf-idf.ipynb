{
 "cells": [
  {
   "cell_type": "markdown",
   "metadata": {},
   "source": [
    "# Import"
   ]
  },
  {
   "cell_type": "code",
   "execution_count": 7,
   "metadata": {},
   "outputs": [],
   "source": [
    "%matplotlib inline\n",
    "import matplotlib.pyplot as plt\n",
    "import csv\n",
    "import sklearn\n",
    "\n",
    "from collections import Counter"
   ]
  },
  {
   "cell_type": "code",
   "execution_count": 8,
   "metadata": {},
   "outputs": [
    {
     "name": "stderr",
     "output_type": "stream",
     "text": [
      "/usr/local/lib/python3.5/dist-packages/h5py/__init__.py:36: FutureWarning: Conversion of the second argument of issubdtype from `float` to `np.floating` is deprecated. In future, it will be treated as `np.float64 == np.dtype(float).type`.\n",
      "  from ._conv import register_converters as _register_converters\n"
     ]
    }
   ],
   "source": [
    "import numpy as np\n",
    "import tensorflow as tf"
   ]
  },
  {
   "cell_type": "markdown",
   "metadata": {},
   "source": [
    "# Load data"
   ]
  },
  {
   "cell_type": "code",
   "execution_count": 9,
   "metadata": {},
   "outputs": [],
   "source": [
    "def load(f):\n",
    "    data = []\n",
    "    with open(f, encoding=\"latin-1\") as csvfile:\n",
    "        reader = csv.DictReader(csvfile)\n",
    "        for row in reader:\n",
    "            data.append((row['SentimentText'], int(row['Sentiment'])))\n",
    "    return data"
   ]
  },
  {
   "cell_type": "code",
   "execution_count": 10,
   "metadata": {
    "scrolled": false
   },
   "outputs": [],
   "source": [
    "train = load('data/train.csv')"
   ]
  },
  {
   "cell_type": "code",
   "execution_count": 11,
   "metadata": {},
   "outputs": [],
   "source": [
    "labels = {\n",
    "    0: \"negative\",\n",
    "    1: \"positive\",\n",
    "}"
   ]
  },
  {
   "cell_type": "markdown",
   "metadata": {},
   "source": [
    "# Train / test split"
   ]
  },
  {
   "cell_type": "code",
   "execution_count": 12,
   "metadata": {},
   "outputs": [],
   "source": [
    "from sklearn.model_selection import train_test_split"
   ]
  },
  {
   "cell_type": "code",
   "execution_count": 13,
   "metadata": {},
   "outputs": [],
   "source": [
    "x = [i[0] for i in train]\n",
    "y = [i[1] for i in train]\n",
    "x_train, x_test, y_train, y_test = train_test_split(x, y, test_size=0.20, random_state=42)"
   ]
  },
  {
   "cell_type": "markdown",
   "metadata": {},
   "source": [
    "# Text vectorization"
   ]
  },
  {
   "cell_type": "code",
   "execution_count": 14,
   "metadata": {},
   "outputs": [],
   "source": [
    "from sklearn.feature_extraction.text import TfidfVectorizer"
   ]
  },
  {
   "cell_type": "code",
   "execution_count": 15,
   "metadata": {},
   "outputs": [],
   "source": [
    "vectorizer = TfidfVectorizer(max_features=400)\n",
    "x_train_vec = vectorizer.fit_transform(x_train)"
   ]
  },
  {
   "cell_type": "code",
   "execution_count": 16,
   "metadata": {},
   "outputs": [
    {
     "data": {
      "text/plain": [
       "<79991x400 sparse matrix of type '<class 'numpy.float64'>'\n",
       "\twith 595687 stored elements in Compressed Sparse Row format>"
      ]
     },
     "execution_count": 16,
     "metadata": {},
     "output_type": "execute_result"
    }
   ],
   "source": [
    "x_train_vec"
   ]
  },
  {
   "cell_type": "markdown",
   "metadata": {},
   "source": [
    "# Train model"
   ]
  },
  {
   "cell_type": "code",
   "execution_count": 17,
   "metadata": {},
   "outputs": [],
   "source": [
    "Dense = tf.keras.layers.Dense\n",
    "Sequential = tf.keras.models.Sequential"
   ]
  },
  {
   "cell_type": "code",
   "execution_count": 18,
   "metadata": {},
   "outputs": [
    {
     "data": {
      "text/plain": [
       "(79991, 400)"
      ]
     },
     "execution_count": 18,
     "metadata": {},
     "output_type": "execute_result"
    }
   ],
   "source": [
    "x_train_vec.shape"
   ]
  },
  {
   "cell_type": "code",
   "execution_count": 19,
   "metadata": {},
   "outputs": [],
   "source": [
    "model = Sequential([\n",
    "    Dense(x_train_vec.shape[1], input_shape=(x_train_vec.shape[1],), activation=\"relu\"),\n",
    "    #Dense(2048, activation=\"relu\"),\n",
    "    Dense(2, activation=\"softmax\"),\n",
    "])"
   ]
  },
  {
   "cell_type": "code",
   "execution_count": 20,
   "metadata": {},
   "outputs": [],
   "source": [
    "model.compile(optimizer='adam',\n",
    "              loss='categorical_crossentropy',\n",
    "              metrics=['accuracy'])"
   ]
  },
  {
   "cell_type": "code",
   "execution_count": 29,
   "metadata": {},
   "outputs": [
    {
     "name": "stdout",
     "output_type": "stream",
     "text": [
      "_________________________________________________________________\n",
      "Layer (type)                 Output Shape              Param #   \n",
      "=================================================================\n",
      "dense_1 (Dense)              (None, 400)               160400    \n",
      "_________________________________________________________________\n",
      "dense_2 (Dense)              (None, 2)                 802       \n",
      "=================================================================\n",
      "Total params: 161,202\n",
      "Trainable params: 161,202\n",
      "Non-trainable params: 0\n",
      "_________________________________________________________________\n"
     ]
    }
   ],
   "source": [
    "model.summary()"
   ]
  },
  {
   "cell_type": "code",
   "execution_count": 21,
   "metadata": {},
   "outputs": [],
   "source": [
    "one_hot_labels = tf.keras.utils.to_categorical(y_train, num_classes=2)"
   ]
  },
  {
   "cell_type": "code",
   "execution_count": 22,
   "metadata": {},
   "outputs": [
    {
     "data": {
      "text/plain": [
       "array(<2x400 sparse matrix of type '<class 'numpy.float64'>'\n",
       "\twith 19 stored elements in Compressed Sparse Row format>, dtype=object)"
      ]
     },
     "execution_count": 22,
     "metadata": {},
     "output_type": "execute_result"
    }
   ],
   "source": [
    "np.array(x_train_vec[:2])"
   ]
  },
  {
   "cell_type": "code",
   "execution_count": 28,
   "metadata": {},
   "outputs": [
    {
     "name": "stdout",
     "output_type": "stream",
     "text": [
      "Epoch 1/10\n",
      "79991/79991 [==============================]79991/79991 [==============================] - 12s 146us/step - loss: 0.5376 - acc: 0.7231\n",
      "\n",
      "Epoch 2/10\n",
      "79991/79991 [==============================]79991/79991 [==============================] - 14s 175us/step - loss: 0.5104 - acc: 0.7421\n",
      "\n",
      "Epoch 3/10\n",
      "79991/79991 [==============================]79991/79991 [==============================] - 16s 204us/step - loss: 0.4821 - acc: 0.7650\n",
      "\n",
      "Epoch 4/10\n",
      "79991/79991 [==============================]79991/79991 [==============================] - 15s 194us/step - loss: 0.4422 - acc: 0.7903\n",
      "\n",
      "Epoch 5/10\n",
      "79991/79991 [==============================]79991/79991 [==============================] - 13s 162us/step - loss: 0.3990 - acc: 0.8185\n",
      "\n",
      "Epoch 6/10\n",
      "79991/79991 [==============================]79991/79991 [==============================] - 13s 161us/step - loss: 0.3554 - acc: 0.8443\n",
      "\n",
      "Epoch 7/10\n",
      "79991/79991 [==============================]79991/79991 [==============================] - 12s 153us/step - loss: 0.3146 - acc: 0.8667\n",
      "\n",
      "Epoch 8/10\n",
      "79991/79991 [==============================]79991/79991 [==============================] - 13s 164us/step - loss: 0.2762 - acc: 0.8871\n",
      "\n",
      "Epoch 9/10\n",
      "79991/79991 [==============================]79991/79991 [==============================] - 14s 177us/step - loss: 0.2444 - acc: 0.9020\n",
      "\n",
      "Epoch 10/10\n",
      "79991/79991 [==============================]79991/79991 [==============================] - 13s 167us/step - loss: 0.2162 - acc: 0.9165\n",
      "\n"
     ]
    },
    {
     "data": {
      "text/plain": [
       "<tensorflow.python.keras._impl.keras.callbacks.History at 0x7f39bafce240>"
      ]
     },
     "execution_count": 28,
     "metadata": {},
     "output_type": "execute_result"
    }
   ],
   "source": [
    "model.fit(x_train_vec.toarray(), one_hot_labels, epochs=10, batch_size=32)"
   ]
  },
  {
   "cell_type": "markdown",
   "metadata": {},
   "source": [
    "# Test model"
   ]
  },
  {
   "cell_type": "code",
   "execution_count": 39,
   "metadata": {},
   "outputs": [],
   "source": [
    "def test_it(i):\n",
    "    print(x_test[i])\n",
    "    print(\"{} ({})\".format(labels[model.predict_classes(vectorizer.transform([x_test[i]]).toarray())[0]], labels[y_test[i]]))"
   ]
  },
  {
   "cell_type": "code",
   "execution_count": 40,
   "metadata": {},
   "outputs": [
    {
     "name": "stdout",
     "output_type": "stream",
     "text": [
      "@Allieandra wheeee! \n",
      "positive (positive)\n",
      "\n",
      "@a02toyota Thank you for the FF! Good to meet ya \n",
      "positive (positive)\n",
      "\n",
      "@ electricbath Eewwww. Gross! So sorry hayward hates you like that. \n",
      "negative (negative)\n",
      "\n",
      "#followfriday - I'm a little late, but here's a special shoutout for @SomersetMarcy - my missus! \n",
      "positive (positive)\n",
      "\n",
      "#icanhelp in shopping (deals), personal assistant, event planning!! I own GET IT TOGETHER, those are my services  jennifer.git@gmail.com\n",
      "negative (positive)\n",
      "\n",
      " broken hearts will heal with time...\n",
      "positive (negative)\n",
      "\n",
      "..I've already listened to all the S4 commentary except the finale \n",
      "negative (negative)\n",
      "\n",
      "&quot;Everybody make mistakes.&quot; I'm gonna go get some sleep because I have an other show tomorrow night and I want it to be peeeeerfect! \n",
      "positive (positive)\n",
      "\n",
      "#I Believe...that if you smile at someone, friend or stranger, you will make TWO people feel good.  \n",
      "positive (positive)\n",
      "\n",
      "@andreacFOD I think I'm done at twitterland too. I will tweet David one last time tomorrow. This made me sad. \n",
      "negative (negative)\n",
      "\n"
     ]
    }
   ],
   "source": [
    "for i in range(10):\n",
    "    test_it(i)\n",
    "    print()"
   ]
  },
  {
   "cell_type": "code",
   "execution_count": 43,
   "metadata": {},
   "outputs": [
    {
     "data": {
      "text/plain": [
       "'positive'"
      ]
     },
     "execution_count": 43,
     "metadata": {},
     "output_type": "execute_result"
    }
   ],
   "source": [
    "labels[model.predict_classes(vectorizer.transform([\"love ML talk Jihlava\"]).toarray())[0]]"
   ]
  },
  {
   "cell_type": "code",
   "execution_count": 44,
   "metadata": {},
   "outputs": [
    {
     "data": {
      "text/plain": [
       "'negative'"
      ]
     },
     "execution_count": 44,
     "metadata": {},
     "output_type": "execute_result"
    }
   ],
   "source": [
    "labels[model.predict_classes(vectorizer.transform([\"hate ML talk Jihlava\"]).toarray())[0]]"
   ]
  },
  {
   "cell_type": "markdown",
   "metadata": {},
   "source": [
    "# Evaluate model"
   ]
  },
  {
   "cell_type": "code",
   "execution_count": 45,
   "metadata": {},
   "outputs": [],
   "source": [
    "from sklearn.metrics import classification_report"
   ]
  },
  {
   "cell_type": "code",
   "execution_count": 47,
   "metadata": {},
   "outputs": [
    {
     "name": "stdout",
     "output_type": "stream",
     "text": [
      "             precision    recall  f1-score   support\n",
      "\n",
      "   negative       0.67      0.62      0.65      8750\n",
      "   positive       0.72      0.76      0.74     11248\n",
      "\n",
      "avg / total       0.70      0.70      0.70     19998\n",
      "\n"
     ]
    }
   ],
   "source": [
    "y_pred = model.predict_classes(vectorizer.transform(x_test).toarray())\n",
    "print(classification_report(y_test, y_pred, target_names=labels.values()))"
   ]
  },
  {
   "cell_type": "code",
   "execution_count": null,
   "metadata": {},
   "outputs": [],
   "source": []
  }
 ],
 "metadata": {
  "kernelspec": {
   "display_name": "Python 3",
   "language": "python",
   "name": "python3"
  },
  "language_info": {
   "codemirror_mode": {
    "name": "ipython",
    "version": 3
   },
   "file_extension": ".py",
   "mimetype": "text/x-python",
   "name": "python",
   "nbconvert_exporter": "python",
   "pygments_lexer": "ipython3",
   "version": "3.5.2"
  }
 },
 "nbformat": 4,
 "nbformat_minor": 2
}
