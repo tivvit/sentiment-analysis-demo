{
 "cells": [
  {
   "cell_type": "markdown",
   "metadata": {},
   "source": [
    "# Import"
   ]
  },
  {
   "cell_type": "code",
   "execution_count": 1,
   "metadata": {},
   "outputs": [],
   "source": [
    "%matplotlib inline\n",
    "import matplotlib.pyplot as plt\n",
    "import csv\n",
    "import sklearn\n",
    "\n",
    "from collections import Counter"
   ]
  },
  {
   "cell_type": "markdown",
   "metadata": {},
   "source": [
    "# Load data"
   ]
  },
  {
   "cell_type": "code",
   "execution_count": 2,
   "metadata": {},
   "outputs": [],
   "source": [
    "def load(f):\n",
    "    data = []\n",
    "    with open(f, encoding=\"latin-1\") as csvfile:\n",
    "        reader = csv.DictReader(csvfile)\n",
    "        for row in reader:\n",
    "            data.append((row['SentimentText'], int(row['Sentiment'])))\n",
    "    return data"
   ]
  },
  {
   "cell_type": "code",
   "execution_count": 3,
   "metadata": {
    "scrolled": false
   },
   "outputs": [],
   "source": [
    "train = load('data/train.csv')"
   ]
  },
  {
   "cell_type": "code",
   "execution_count": 4,
   "metadata": {},
   "outputs": [],
   "source": [
    "labels = {\n",
    "    0: \"negative\",\n",
    "    1: \"positive\",\n",
    "}"
   ]
  },
  {
   "cell_type": "code",
   "execution_count": 5,
   "metadata": {},
   "outputs": [
    {
     "data": {
      "text/plain": [
       "[('                     is so sad for my APL friend.............', 0),\n",
       " ('                   I missed the New Moon trailer...', 0),\n",
       " ('              omg its already 7:30 :O', 1),\n",
       " (\"          .. Omgaga. Im sooo  im gunna CRy. I've been at this dentist since 11.. I was suposed 2 just get a crown put on (30mins)...\",\n",
       "  0),\n",
       " ('         i think mi bf is cheating on me!!!       T_T', 0),\n",
       " ('         or i just worry too much?        ', 0),\n",
       " ('       Juuuuuuuuuuuuuuuuussssst Chillin!!', 1),\n",
       " ('       Sunny Again        Work Tomorrow  :-|       TV Tonight', 0),\n",
       " ('      handed in my uniform today . i miss you already', 1),\n",
       " ('      hmmmm.... i wonder how she my number @-)', 1),\n",
       " ('      I must think about positive..', 0),\n",
       " ('      thanks to all the haters up in my face all day! 112-102', 1),\n",
       " ('      this weekend has sucked so far', 0),\n",
       " ('     jb isnt showing in australia any more!', 0),\n",
       " ('     ok thats it you win.', 0),\n",
       " ('    &lt;-------- This is the way i feel right now...', 0),\n",
       " (\"    awhhe man.... I'm completely useless rt now. Funny, all I can do is twitter. http://myloc.me/27HX\",\n",
       "  0),\n",
       " (\"    Feeling strangely fine. Now I'm gonna go listen to some Semisonic to celebrate\",\n",
       "  1),\n",
       " ('    HUGE roll of thunder just now...SO scary!!!!', 0),\n",
       " (\"    I just cut my beard off. It's only been growing for well over a year. I'm gonna start it over. @shaunamanu is happy in the meantime.\",\n",
       "  0)]"
      ]
     },
     "execution_count": 5,
     "metadata": {},
     "output_type": "execute_result"
    }
   ],
   "source": [
    "train[:20]"
   ]
  },
  {
   "cell_type": "markdown",
   "metadata": {},
   "source": [
    "# Analyze"
   ]
  },
  {
   "cell_type": "code",
   "execution_count": 6,
   "metadata": {},
   "outputs": [
    {
     "data": {
      "text/plain": [
       "99989"
      ]
     },
     "execution_count": 6,
     "metadata": {},
     "output_type": "execute_result"
    }
   ],
   "source": [
    "len(train)"
   ]
  },
  {
   "cell_type": "code",
   "execution_count": 7,
   "metadata": {},
   "outputs": [
    {
     "name": "stdout",
     "output_type": "stream",
     "text": [
      "Counter({1: 56457, 0: 43532})\n"
     ]
    },
    {
     "data": {
      "text/plain": [
       "(-1.1050889365975138,\n",
       " 1.1002423303141673,\n",
       " -1.1111496620442514,\n",
       " 1.1276313226463996)"
      ]
     },
     "execution_count": 7,
     "metadata": {},
     "output_type": "execute_result"
    },
    {
     "data": {
      "image/png": "[encoded data removed]",
      "text/plain": [
       "<matplotlib.figure.Figure at 0x7f43d2aa5128>"
      ]
     },
     "metadata": {},
     "output_type": "display_data"
    }
   ],
   "source": [
    "label_cnt = Counter([i[1] for i in train])\n",
    "print(label_cnt)\n",
    "plt.pie(label_cnt.values(), labels=labels.values(), autopct='%1.1f%%')\n",
    "plt.axis('equal')"
   ]
  },
  {
   "cell_type": "markdown",
   "metadata": {},
   "source": [
    "# Train / test split"
   ]
  },
  {
   "cell_type": "code",
   "execution_count": 8,
   "metadata": {},
   "outputs": [],
   "source": [
    "from sklearn.model_selection import train_test_split"
   ]
  },
  {
   "cell_type": "code",
   "execution_count": 9,
   "metadata": {},
   "outputs": [],
   "source": [
    "x = [i[0] for i in train]\n",
    "y = [i[1] for i in train]\n",
    "x_train, x_test, y_train, y_test = train_test_split(x, y, test_size=0.20, random_state=42)"
   ]
  },
  {
   "cell_type": "markdown",
   "metadata": {},
   "source": [
    "# Text vectorization"
   ]
  },
  {
   "cell_type": "code",
   "execution_count": 10,
   "metadata": {},
   "outputs": [],
   "source": [
    "from sklearn.feature_extraction.text import CountVectorizer"
   ]
  },
  {
   "cell_type": "code",
   "execution_count": 11,
   "metadata": {},
   "outputs": [],
   "source": [
    "vectorizer = CountVectorizer()\n",
    "x_train_vec = vectorizer.fit_transform(x_train)"
   ]
  },
  {
   "cell_type": "code",
   "execution_count": 12,
   "metadata": {},
   "outputs": [
    {
     "data": {
      "text/plain": [
       "<79991x90893 sparse matrix of type '<class 'numpy.int64'>'\n",
       "\twith 952953 stored elements in Compressed Sparse Row format>"
      ]
     },
     "execution_count": 12,
     "metadata": {},
     "output_type": "execute_result"
    }
   ],
   "source": [
    "x_train_vec"
   ]
  },
  {
   "cell_type": "markdown",
   "metadata": {},
   "source": [
    "# Train model"
   ]
  },
  {
   "cell_type": "code",
   "execution_count": 13,
   "metadata": {},
   "outputs": [],
   "source": [
    "from sklearn.naive_bayes import MultinomialNB"
   ]
  },
  {
   "cell_type": "code",
   "execution_count": 14,
   "metadata": {},
   "outputs": [
    {
     "data": {
      "text/plain": [
       "MultinomialNB(alpha=1.0, class_prior=None, fit_prior=True)"
      ]
     },
     "execution_count": 14,
     "metadata": {},
     "output_type": "execute_result"
    }
   ],
   "source": [
    "model = MultinomialNB()\n",
    "model.fit(x_train_vec, y_train)"
   ]
  },
  {
   "cell_type": "markdown",
   "metadata": {},
   "source": [
    "# Test model"
   ]
  },
  {
   "cell_type": "code",
   "execution_count": 15,
   "metadata": {},
   "outputs": [],
   "source": [
    "def test_it(i):\n",
    "    print(x_test[i])\n",
    "    print(labels[model.predict(vectorizer.transform([x_test[i]]))[0]])"
   ]
  },
  {
   "cell_type": "code",
   "execution_count": 16,
   "metadata": {},
   "outputs": [
    {
     "name": "stdout",
     "output_type": "stream",
     "text": [
      "@Allieandra wheeee! \n",
      "negative\n",
      "\n",
      "@a02toyota Thank you for the FF! Good to meet ya \n",
      "positive\n",
      "\n",
      "@ electricbath Eewwww. Gross! So sorry hayward hates you like that. \n",
      "negative\n",
      "\n",
      "#followfriday - I'm a little late, but here's a special shoutout for @SomersetMarcy - my missus! \n",
      "positive\n",
      "\n",
      "#icanhelp in shopping (deals), personal assistant, event planning!! I own GET IT TOGETHER, those are my services  jennifer.git@gmail.com\n",
      "positive\n",
      "\n",
      " broken hearts will heal with time...\n",
      "negative\n",
      "\n",
      "..I've already listened to all the S4 commentary except the finale \n",
      "negative\n",
      "\n",
      "&quot;Everybody make mistakes.&quot; I'm gonna go get some sleep because I have an other show tomorrow night and I want it to be peeeeerfect! \n",
      "negative\n",
      "\n",
      "#I Believe...that if you smile at someone, friend or stranger, you will make TWO people feel good.  \n",
      "positive\n",
      "\n",
      "@andreacFOD I think I'm done at twitterland too. I will tweet David one last time tomorrow. This made me sad. \n",
      "negative\n",
      "\n"
     ]
    }
   ],
   "source": [
    "for i in range(10):\n",
    "    test_it(i)\n",
    "    print()"
   ]
  },
  {
   "cell_type": "markdown",
   "metadata": {},
   "source": [
    "# Evaluate model"
   ]
  },
  {
   "cell_type": "code",
   "execution_count": 17,
   "metadata": {},
   "outputs": [],
   "source": [
    "from sklearn.metrics import classification_report"
   ]
  },
  {
   "cell_type": "code",
   "execution_count": 18,
   "metadata": {},
   "outputs": [
    {
     "name": "stdout",
     "output_type": "stream",
     "text": [
      "             precision    recall  f1-score   support\n",
      "\n",
      "   negative       0.73      0.72      0.72      8750\n",
      "   positive       0.78      0.80      0.79     11248\n",
      "\n",
      "avg / total       0.76      0.76      0.76     19998\n",
      "\n"
     ]
    }
   ],
   "source": [
    "y_pred = model.predict(vectorizer.transform(x_test))\n",
    "print(classification_report(y_test, y_pred, target_names=labels.values()))"
   ]
  },
  {
   "cell_type": "code",
   "execution_count": null,
   "metadata": {},
   "outputs": [],
   "source": []
  }
 ],
 "metadata": {
  "kernelspec": {
   "display_name": "Python 3",
   "language": "python",
   "name": "python3"
  },
  "language_info": {
   "codemirror_mode": {
    "name": "ipython",
    "version": 3
   },
   "file_extension": ".py",
   "mimetype": "text/x-python",
   "name": "python",
   "nbconvert_exporter": "python",
   "pygments_lexer": "ipython3",
   "version": "3.5.2"
  }
 },
 "nbformat": 4,
 "nbformat_minor": 2
}
